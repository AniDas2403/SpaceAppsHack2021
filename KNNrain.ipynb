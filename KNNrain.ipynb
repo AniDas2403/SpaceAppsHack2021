{
 "cells": [
  {
   "cell_type": "code",
   "execution_count": 2,
   "id": "ecae125f-4bb6-4532-a6e0-b3081266ab3a",
   "metadata": {},
   "outputs": [],
   "source": [
    "import pandas as pd\n",
    "import random\n",
    "import numpy as np \n",
    "import matplotlib.pyplot as plt \n",
    "from sklearn.cluster import KMeans \n",
    "from sklearn.datasets import make_blobs \n",
    "from sklearn import preprocessing\n",
    "%matplotlib inline"
   ]
  },
  {
   "cell_type": "code",
   "execution_count": 3,
   "id": "c5bd41bd-1aff-4083-b981-b968731ce391",
   "metadata": {},
   "outputs": [],
   "source": [
    "rain = pd.read_excel('./AvgAnnualPrecipitation.xlsx')"
   ]
  },
  {
   "cell_type": "code",
   "execution_count": 4,
   "id": "e20c36c6-302f-451c-8851-9d1dd5ea6e7c",
   "metadata": {},
   "outputs": [],
   "source": [
    "m = [None]*len(rain)\n",
    "rain['Mag'] = m"
   ]
  },
  {
   "cell_type": "code",
   "execution_count": 5,
   "id": "c0bbb7f9-7cde-468b-b988-fb6a3592e20d",
   "metadata": {},
   "outputs": [
    {
     "data": {
      "text/html": [
       "<div>\n",
       "<style scoped>\n",
       "    .dataframe tbody tr th:only-of-type {\n",
       "        vertical-align: middle;\n",
       "    }\n",
       "\n",
       "    .dataframe tbody tr th {\n",
       "        vertical-align: top;\n",
       "    }\n",
       "\n",
       "    .dataframe thead th {\n",
       "        text-align: right;\n",
       "    }\n",
       "</style>\n",
       "<table border=\"1\" class=\"dataframe\">\n",
       "  <thead>\n",
       "    <tr style=\"text-align: right;\">\n",
       "      <th></th>\n",
       "      <th>Days</th>\n",
       "      <th>Place</th>\n",
       "      <th>Region</th>\n",
       "      <th>Inches</th>\n",
       "      <th>Millimeters</th>\n",
       "      <th>Latitude</th>\n",
       "      <th>Longitude</th>\n",
       "      <th>Mag</th>\n",
       "    </tr>\n",
       "  </thead>\n",
       "  <tbody>\n",
       "    <tr>\n",
       "      <th>0</th>\n",
       "      <td>75</td>\n",
       "      <td>Bologna</td>\n",
       "      <td>NE</td>\n",
       "      <td>26.4</td>\n",
       "      <td>671</td>\n",
       "      <td>44.4949</td>\n",
       "      <td>11.3426</td>\n",
       "      <td>None</td>\n",
       "    </tr>\n",
       "    <tr>\n",
       "      <th>1</th>\n",
       "      <td>76</td>\n",
       "      <td>Bolzano</td>\n",
       "      <td>NE</td>\n",
       "      <td>28.0</td>\n",
       "      <td>712</td>\n",
       "      <td>46.4983</td>\n",
       "      <td>11.3548</td>\n",
       "      <td>None</td>\n",
       "    </tr>\n",
       "    <tr>\n",
       "      <th>2</th>\n",
       "      <td>75</td>\n",
       "      <td>Cervia</td>\n",
       "      <td>NE</td>\n",
       "      <td>25.9</td>\n",
       "      <td>658</td>\n",
       "      <td>44.2635</td>\n",
       "      <td>12.3477</td>\n",
       "      <td>None</td>\n",
       "    </tr>\n",
       "    <tr>\n",
       "      <th>3</th>\n",
       "      <td>87</td>\n",
       "      <td>Monte Cimone</td>\n",
       "      <td>NE</td>\n",
       "      <td>24.2</td>\n",
       "      <td>615</td>\n",
       "      <td>44.1938</td>\n",
       "      <td>10.7015</td>\n",
       "      <td>None</td>\n",
       "    </tr>\n",
       "    <tr>\n",
       "      <th>4</th>\n",
       "      <td>88</td>\n",
       "      <td>Paganella</td>\n",
       "      <td>NE</td>\n",
       "      <td>30.1</td>\n",
       "      <td>764</td>\n",
       "      <td>46.1333</td>\n",
       "      <td>11.0333</td>\n",
       "      <td>None</td>\n",
       "    </tr>\n",
       "  </tbody>\n",
       "</table>\n",
       "</div>"
      ],
      "text/plain": [
       "   Days         Place Region  Inches  Millimeters  Latitude  Longitude   Mag\n",
       "0    75       Bologna     NE    26.4          671   44.4949    11.3426  None\n",
       "1    76       Bolzano     NE    28.0          712   46.4983    11.3548  None\n",
       "2    75        Cervia     NE    25.9          658   44.2635    12.3477  None\n",
       "3    87  Monte Cimone     NE    24.2          615   44.1938    10.7015  None\n",
       "4    88     Paganella     NE    30.1          764   46.1333    11.0333  None"
      ]
     },
     "execution_count": 5,
     "metadata": {},
     "output_type": "execute_result"
    }
   ],
   "source": [
    "rain.head()"
   ]
  },
  {
   "cell_type": "code",
   "execution_count": 6,
   "id": "51724baf-3697-4cdf-9062-f1e68882a567",
   "metadata": {},
   "outputs": [
    {
     "name": "stderr",
     "output_type": "stream",
     "text": [
      "C:\\Users\\dasa\\AppData\\Local\\Temp/ipykernel_9172/3648424788.py:7: SettingWithCopyWarning: \n",
      "A value is trying to be set on a copy of a slice from a DataFrame\n",
      "\n",
      "See the caveats in the documentation: https://pandas.pydata.org/pandas-docs/stable/user_guide/indexing.html#returning-a-view-versus-a-copy\n",
      "  rain['Mag'][i] = 2\n",
      "C:\\Users\\dasa\\AppData\\Local\\Temp/ipykernel_9172/3648424788.py:10: SettingWithCopyWarning: \n",
      "A value is trying to be set on a copy of a slice from a DataFrame\n",
      "\n",
      "See the caveats in the documentation: https://pandas.pydata.org/pandas-docs/stable/user_guide/indexing.html#returning-a-view-versus-a-copy\n",
      "  rain['Mag'][i] = 1\n",
      "C:\\Users\\dasa\\AppData\\Local\\Temp/ipykernel_9172/3648424788.py:4: SettingWithCopyWarning: \n",
      "A value is trying to be set on a copy of a slice from a DataFrame\n",
      "\n",
      "See the caveats in the documentation: https://pandas.pydata.org/pandas-docs/stable/user_guide/indexing.html#returning-a-view-versus-a-copy\n",
      "  rain['Mag'][i] = 3\n"
     ]
    }
   ],
   "source": [
    "for i in range(len(rain)):\n",
    "    \n",
    "    if (rain['Millimeters'][i] >= 300 and rain['Millimeters'][i] <= 500):\n",
    "        rain['Mag'][i] = 3\n",
    "        \n",
    "    if (rain['Millimeters'][i] > 500 and rain['Millimeters'][i] <= 900):\n",
    "        rain['Mag'][i] = 2\n",
    "        \n",
    "    if (rain['Millimeters'][i] > 900 and rain['Millimeters'][i] <= 1417):\n",
    "        rain['Mag'][i] = 1"
   ]
  },
  {
   "cell_type": "code",
   "execution_count": 7,
   "id": "cfc58348-a5e2-4b28-97db-910c4c61b226",
   "metadata": {},
   "outputs": [
    {
     "data": {
      "text/html": [
       "<div>\n",
       "<style scoped>\n",
       "    .dataframe tbody tr th:only-of-type {\n",
       "        vertical-align: middle;\n",
       "    }\n",
       "\n",
       "    .dataframe tbody tr th {\n",
       "        vertical-align: top;\n",
       "    }\n",
       "\n",
       "    .dataframe thead th {\n",
       "        text-align: right;\n",
       "    }\n",
       "</style>\n",
       "<table border=\"1\" class=\"dataframe\">\n",
       "  <thead>\n",
       "    <tr style=\"text-align: right;\">\n",
       "      <th></th>\n",
       "      <th>Days</th>\n",
       "      <th>Place</th>\n",
       "      <th>Region</th>\n",
       "      <th>Inches</th>\n",
       "      <th>Millimeters</th>\n",
       "      <th>Latitude</th>\n",
       "      <th>Longitude</th>\n",
       "      <th>Mag</th>\n",
       "    </tr>\n",
       "  </thead>\n",
       "  <tbody>\n",
       "    <tr>\n",
       "      <th>0</th>\n",
       "      <td>75</td>\n",
       "      <td>Bologna</td>\n",
       "      <td>NE</td>\n",
       "      <td>26.4</td>\n",
       "      <td>671</td>\n",
       "      <td>44.4949</td>\n",
       "      <td>11.3426</td>\n",
       "      <td>2</td>\n",
       "    </tr>\n",
       "    <tr>\n",
       "      <th>1</th>\n",
       "      <td>76</td>\n",
       "      <td>Bolzano</td>\n",
       "      <td>NE</td>\n",
       "      <td>28.0</td>\n",
       "      <td>712</td>\n",
       "      <td>46.4983</td>\n",
       "      <td>11.3548</td>\n",
       "      <td>2</td>\n",
       "    </tr>\n",
       "    <tr>\n",
       "      <th>2</th>\n",
       "      <td>75</td>\n",
       "      <td>Cervia</td>\n",
       "      <td>NE</td>\n",
       "      <td>25.9</td>\n",
       "      <td>658</td>\n",
       "      <td>44.2635</td>\n",
       "      <td>12.3477</td>\n",
       "      <td>2</td>\n",
       "    </tr>\n",
       "    <tr>\n",
       "      <th>3</th>\n",
       "      <td>87</td>\n",
       "      <td>Monte Cimone</td>\n",
       "      <td>NE</td>\n",
       "      <td>24.2</td>\n",
       "      <td>615</td>\n",
       "      <td>44.1938</td>\n",
       "      <td>10.7015</td>\n",
       "      <td>2</td>\n",
       "    </tr>\n",
       "    <tr>\n",
       "      <th>4</th>\n",
       "      <td>88</td>\n",
       "      <td>Paganella</td>\n",
       "      <td>NE</td>\n",
       "      <td>30.1</td>\n",
       "      <td>764</td>\n",
       "      <td>46.1333</td>\n",
       "      <td>11.0333</td>\n",
       "      <td>2</td>\n",
       "    </tr>\n",
       "  </tbody>\n",
       "</table>\n",
       "</div>"
      ],
      "text/plain": [
       "   Days         Place Region  Inches  Millimeters  Latitude  Longitude Mag\n",
       "0    75       Bologna     NE    26.4          671   44.4949    11.3426   2\n",
       "1    76       Bolzano     NE    28.0          712   46.4983    11.3548   2\n",
       "2    75        Cervia     NE    25.9          658   44.2635    12.3477   2\n",
       "3    87  Monte Cimone     NE    24.2          615   44.1938    10.7015   2\n",
       "4    88     Paganella     NE    30.1          764   46.1333    11.0333   2"
      ]
     },
     "execution_count": 7,
     "metadata": {},
     "output_type": "execute_result"
    }
   ],
   "source": [
    "rain.head()"
   ]
  },
  {
   "cell_type": "code",
   "execution_count": 31,
   "id": "6815703c-76a2-41b6-9340-db1ceeb05bec",
   "metadata": {},
   "outputs": [
    {
     "data": {
      "text/plain": [
       "2    30\n",
       "1     9\n",
       "3     5\n",
       "Name: Mag, dtype: int64"
      ]
     },
     "execution_count": 31,
     "metadata": {},
     "output_type": "execute_result"
    }
   ],
   "source": [
    "rain['Mag'].value_counts()"
   ]
  },
  {
   "cell_type": "code",
   "execution_count": 23,
   "id": "4a43ae16-4b8b-4b57-970e-550cd5a82c0a",
   "metadata": {},
   "outputs": [],
   "source": [
    "X = rain[['Latitude', 'Longitude']]\n",
    "Y = rain[['Mag']]\n",
    "Y=Y.astype('int')"
   ]
  },
  {
   "cell_type": "code",
   "execution_count": 24,
   "id": "ed92f445-d66b-4bfb-8e00-62bd33035777",
   "metadata": {},
   "outputs": [
    {
     "data": {
      "text/html": [
       "<div>\n",
       "<style scoped>\n",
       "    .dataframe tbody tr th:only-of-type {\n",
       "        vertical-align: middle;\n",
       "    }\n",
       "\n",
       "    .dataframe tbody tr th {\n",
       "        vertical-align: top;\n",
       "    }\n",
       "\n",
       "    .dataframe thead th {\n",
       "        text-align: right;\n",
       "    }\n",
       "</style>\n",
       "<table border=\"1\" class=\"dataframe\">\n",
       "  <thead>\n",
       "    <tr style=\"text-align: right;\">\n",
       "      <th></th>\n",
       "      <th>Latitude</th>\n",
       "      <th>Longitude</th>\n",
       "    </tr>\n",
       "  </thead>\n",
       "  <tbody>\n",
       "    <tr>\n",
       "      <th>0</th>\n",
       "      <td>44.4949</td>\n",
       "      <td>11.3426</td>\n",
       "    </tr>\n",
       "    <tr>\n",
       "      <th>1</th>\n",
       "      <td>46.4983</td>\n",
       "      <td>11.3548</td>\n",
       "    </tr>\n",
       "    <tr>\n",
       "      <th>2</th>\n",
       "      <td>44.2635</td>\n",
       "      <td>12.3477</td>\n",
       "    </tr>\n",
       "    <tr>\n",
       "      <th>3</th>\n",
       "      <td>44.1938</td>\n",
       "      <td>10.7015</td>\n",
       "    </tr>\n",
       "    <tr>\n",
       "      <th>4</th>\n",
       "      <td>46.1333</td>\n",
       "      <td>11.0333</td>\n",
       "    </tr>\n",
       "  </tbody>\n",
       "</table>\n",
       "</div>"
      ],
      "text/plain": [
       "   Latitude  Longitude\n",
       "0   44.4949    11.3426\n",
       "1   46.4983    11.3548\n",
       "2   44.2635    12.3477\n",
       "3   44.1938    10.7015\n",
       "4   46.1333    11.0333"
      ]
     },
     "execution_count": 24,
     "metadata": {},
     "output_type": "execute_result"
    }
   ],
   "source": [
    "X.head()"
   ]
  },
  {
   "cell_type": "code",
   "execution_count": 25,
   "id": "8f1ce7b0-e5f7-411a-a80a-0d9ea8c8e5ce",
   "metadata": {},
   "outputs": [
    {
     "data": {
      "text/html": [
       "<div>\n",
       "<style scoped>\n",
       "    .dataframe tbody tr th:only-of-type {\n",
       "        vertical-align: middle;\n",
       "    }\n",
       "\n",
       "    .dataframe tbody tr th {\n",
       "        vertical-align: top;\n",
       "    }\n",
       "\n",
       "    .dataframe thead th {\n",
       "        text-align: right;\n",
       "    }\n",
       "</style>\n",
       "<table border=\"1\" class=\"dataframe\">\n",
       "  <thead>\n",
       "    <tr style=\"text-align: right;\">\n",
       "      <th></th>\n",
       "      <th>Mag</th>\n",
       "    </tr>\n",
       "  </thead>\n",
       "  <tbody>\n",
       "    <tr>\n",
       "      <th>0</th>\n",
       "      <td>2</td>\n",
       "    </tr>\n",
       "    <tr>\n",
       "      <th>1</th>\n",
       "      <td>2</td>\n",
       "    </tr>\n",
       "    <tr>\n",
       "      <th>2</th>\n",
       "      <td>2</td>\n",
       "    </tr>\n",
       "    <tr>\n",
       "      <th>3</th>\n",
       "      <td>2</td>\n",
       "    </tr>\n",
       "    <tr>\n",
       "      <th>4</th>\n",
       "      <td>2</td>\n",
       "    </tr>\n",
       "  </tbody>\n",
       "</table>\n",
       "</div>"
      ],
      "text/plain": [
       "   Mag\n",
       "0    2\n",
       "1    2\n",
       "2    2\n",
       "3    2\n",
       "4    2"
      ]
     },
     "execution_count": 25,
     "metadata": {},
     "output_type": "execute_result"
    }
   ],
   "source": [
    "Y.head()"
   ]
  },
  {
   "cell_type": "code",
   "execution_count": 26,
   "id": "b4af30ac-3df6-436a-a3ba-9dadefd7d917",
   "metadata": {},
   "outputs": [
    {
     "data": {
      "text/plain": [
       "array([[ 0.67949931, -0.48389286],\n",
       "       [ 1.41924792, -0.47885863],\n",
       "       [ 0.59405565, -0.06914658],\n",
       "       [ 0.56831917, -0.74843752],\n",
       "       [ 1.28447292, -0.61152297]])"
      ]
     },
     "execution_count": 26,
     "metadata": {},
     "output_type": "execute_result"
    }
   ],
   "source": [
    "# Normalizing data\n",
    "X = preprocessing.StandardScaler().fit(X).transform(X)\n",
    "X[0:5]"
   ]
  },
  {
   "cell_type": "code",
   "execution_count": 53,
   "id": "92743365-19a5-4c3b-af52-e6cb16357fb5",
   "metadata": {},
   "outputs": [
    {
     "name": "stdout",
     "output_type": "stream",
     "text": [
      "Train set: (30, 2) (30, 1)\n",
      "Test set: (14, 2) (14, 1)\n"
     ]
    }
   ],
   "source": [
    "\n",
    "# Importing library \n",
    "from sklearn.neighbors import KNeighborsClassifier\n",
    "import sklearn.metrics as metrics\n",
    "\n",
    "# Split in train and test\n",
    "from sklearn.model_selection import train_test_split\n",
    "X_train, X_test, y_train, y_test = train_test_split( X, Y, test_size=0.3, random_state=4)\n",
    "print ('Train set:', X_train.shape,  y_train.shape)\n",
    "print ('Test set:', X_test.shape,  y_test.shape)"
   ]
  },
  {
   "cell_type": "code",
   "execution_count": 54,
   "id": "4d4bc413-8ff8-4d32-ad82-a622e0d5464a",
   "metadata": {},
   "outputs": [
    {
     "name": "stdout",
     "output_type": "stream",
     "text": [
      "mean_acc: [0.64285714 0.92857143 0.64285714 0.64285714 0.64285714 0.64285714\n",
      " 0.64285714 0.64285714 0.64285714 0.64285714 0.64285714 0.64285714\n",
      " 0.64285714 0.64285714]\n"
     ]
    },
    {
     "name": "stderr",
     "output_type": "stream",
     "text": [
      "C:\\Users\\dasa\\Software\\Python\\lib\\site-packages\\sklearn\\neighbors\\_classification.py:198: DataConversionWarning: A column-vector y was passed when a 1d array was expected. Please change the shape of y to (n_samples,), for example using ravel().\n",
      "  return self._fit(X, y)\n",
      "C:\\Users\\dasa\\Software\\Python\\lib\\site-packages\\sklearn\\neighbors\\_classification.py:198: DataConversionWarning: A column-vector y was passed when a 1d array was expected. Please change the shape of y to (n_samples,), for example using ravel().\n",
      "  return self._fit(X, y)\n",
      "C:\\Users\\dasa\\Software\\Python\\lib\\site-packages\\sklearn\\neighbors\\_classification.py:198: DataConversionWarning: A column-vector y was passed when a 1d array was expected. Please change the shape of y to (n_samples,), for example using ravel().\n",
      "  return self._fit(X, y)\n",
      "C:\\Users\\dasa\\Software\\Python\\lib\\site-packages\\sklearn\\neighbors\\_classification.py:198: DataConversionWarning: A column-vector y was passed when a 1d array was expected. Please change the shape of y to (n_samples,), for example using ravel().\n",
      "  return self._fit(X, y)\n",
      "C:\\Users\\dasa\\Software\\Python\\lib\\site-packages\\sklearn\\neighbors\\_classification.py:198: DataConversionWarning: A column-vector y was passed when a 1d array was expected. Please change the shape of y to (n_samples,), for example using ravel().\n",
      "  return self._fit(X, y)\n",
      "C:\\Users\\dasa\\Software\\Python\\lib\\site-packages\\sklearn\\neighbors\\_classification.py:198: DataConversionWarning: A column-vector y was passed when a 1d array was expected. Please change the shape of y to (n_samples,), for example using ravel().\n",
      "  return self._fit(X, y)\n",
      "C:\\Users\\dasa\\Software\\Python\\lib\\site-packages\\sklearn\\neighbors\\_classification.py:198: DataConversionWarning: A column-vector y was passed when a 1d array was expected. Please change the shape of y to (n_samples,), for example using ravel().\n",
      "  return self._fit(X, y)\n",
      "C:\\Users\\dasa\\Software\\Python\\lib\\site-packages\\sklearn\\neighbors\\_classification.py:198: DataConversionWarning: A column-vector y was passed when a 1d array was expected. Please change the shape of y to (n_samples,), for example using ravel().\n",
      "  return self._fit(X, y)\n",
      "C:\\Users\\dasa\\Software\\Python\\lib\\site-packages\\sklearn\\neighbors\\_classification.py:198: DataConversionWarning: A column-vector y was passed when a 1d array was expected. Please change the shape of y to (n_samples,), for example using ravel().\n",
      "  return self._fit(X, y)\n",
      "C:\\Users\\dasa\\Software\\Python\\lib\\site-packages\\sklearn\\neighbors\\_classification.py:198: DataConversionWarning: A column-vector y was passed when a 1d array was expected. Please change the shape of y to (n_samples,), for example using ravel().\n",
      "  return self._fit(X, y)\n",
      "C:\\Users\\dasa\\Software\\Python\\lib\\site-packages\\sklearn\\neighbors\\_classification.py:198: DataConversionWarning: A column-vector y was passed when a 1d array was expected. Please change the shape of y to (n_samples,), for example using ravel().\n",
      "  return self._fit(X, y)\n",
      "C:\\Users\\dasa\\Software\\Python\\lib\\site-packages\\sklearn\\neighbors\\_classification.py:198: DataConversionWarning: A column-vector y was passed when a 1d array was expected. Please change the shape of y to (n_samples,), for example using ravel().\n",
      "  return self._fit(X, y)\n",
      "C:\\Users\\dasa\\Software\\Python\\lib\\site-packages\\sklearn\\neighbors\\_classification.py:198: DataConversionWarning: A column-vector y was passed when a 1d array was expected. Please change the shape of y to (n_samples,), for example using ravel().\n",
      "  return self._fit(X, y)\n",
      "C:\\Users\\dasa\\Software\\Python\\lib\\site-packages\\sklearn\\neighbors\\_classification.py:198: DataConversionWarning: A column-vector y was passed when a 1d array was expected. Please change the shape of y to (n_samples,), for example using ravel().\n",
      "  return self._fit(X, y)\n"
     ]
    },
    {
     "data": {
      "image/png": "[encoded data removed]",
      "text/plain": [
       "<Figure size 432x288 with 1 Axes>"
      ]
     },
     "metadata": {
      "needs_background": "light"
     },
     "output_type": "display_data"
    },
    {
     "name": "stdout",
     "output_type": "stream",
     "text": [
      "The best accuracy was with 0.9285714285714286 with k= 2\n"
     ]
    }
   ],
   "source": [
    "# Finding best k\n",
    "Ks = 15\n",
    "mean_acc = np.zeros((Ks-1))\n",
    "std_acc = np.zeros((Ks-1))\n",
    "\n",
    "for n in range(1,Ks):\n",
    "    \n",
    "    #Train Model and Predict  \n",
    "    neigh = KNeighborsClassifier(n_neighbors = n).fit(X_train,y_train)\n",
    "    yhat=neigh.predict(X_test)\n",
    "    mean_acc[n-1] = metrics.accuracy_score(y_test, yhat)\n",
    "    #std_acc[n-1]=np.std(yhat==y_test)/np.sqrt(yhat.shape[0])\n",
    "\n",
    "print(\"mean_acc:\", mean_acc)\n",
    "\n",
    "# Plotting model accuracy for different K-values\n",
    "plt.plot(range(1,Ks),mean_acc,'g')\n",
    "plt.fill_between(range(1,Ks),mean_acc - 1 * std_acc,mean_acc + 1 * std_acc, alpha=0.10)\n",
    "plt.fill_between(range(1,Ks),mean_acc - 3 * std_acc,mean_acc + 3 * std_acc, alpha=0.10,color=\"green\")\n",
    "plt.legend(('Accuracy ', '+/- 1xstd','+/- 3xstd'))\n",
    "plt.ylabel('Accuracy ')\n",
    "plt.xlabel('Number of Neighbors (K)')\n",
    "plt.tight_layout()\n",
    "plt.show()\n",
    "\n",
    "# Printing K value with best accuracy\n",
    "print( \"The best accuracy was with\", mean_acc.max(), \"with k=\", mean_acc.argmax()+1)"
   ]
  },
  {
   "cell_type": "code",
   "execution_count": 55,
   "id": "6681d77d-39b0-4b8d-96f0-0039d52fe03b",
   "metadata": {},
   "outputs": [
    {
     "name": "stdout",
     "output_type": "stream",
     "text": [
      "Train set Accuracy:  0.8\n",
      "Test set Accuracy:  0.9285714285714286\n",
      "[2 2 2 1 2 2 1 1 2 1 2 2 2 2]\n",
      "    Mag\n",
      "31    2\n",
      "43    2\n",
      "4     2\n",
      "15    1\n",
      "28    2\n",
      "19    2\n",
      "16    1\n",
      "7     1\n",
      "18    2\n",
      "11    1\n",
      "27    2\n",
      "35    2\n",
      "12    1\n",
      "22    2\n"
     ]
    },
    {
     "name": "stderr",
     "output_type": "stream",
     "text": [
      "C:\\Users\\dasa\\Software\\Python\\lib\\site-packages\\sklearn\\neighbors\\_classification.py:198: DataConversionWarning: A column-vector y was passed when a 1d array was expected. Please change the shape of y to (n_samples,), for example using ravel().\n",
      "  return self._fit(X, y)\n"
     ]
    }
   ],
   "source": [
    "# Using k=2 to build KNN model\n",
    "k = 2\n",
    "# Train Model and Predict\n",
    "neighk = KNeighborsClassifier(n_neighbors = k).fit(X_train,y_train)\n",
    "yhatk = neighk.predict(X_test)\n",
    "\n",
    "# Accuracy Evaluation\n",
    "print(\"Train set Accuracy: \", metrics.accuracy_score(y_train, neighk.predict(X_train)))\n",
    "print(\"Test set Accuracy: \", metrics.accuracy_score(y_test, yhatk))\n",
    "\n",
    "print(yhatk [0:25])\n",
    "print(y_test [0:25])"
   ]
  },
  {
   "cell_type": "code",
   "execution_count": 68,
   "id": "fd95956a-cb53-488b-ba17-fc0c07382d7b",
   "metadata": {},
   "outputs": [
    {
     "data": {
      "text/plain": [
       "'2'"
      ]
     },
     "execution_count": 68,
     "metadata": {},
     "output_type": "execute_result"
    }
   ],
   "source": [
    "#taking input co-ordinates as 41.8368, 12.6528\n",
    "\n",
    "lat = 44.6467\n",
    "long = 7.6639\n",
    "\n",
    "IC = [lat, long]\n",
    "\n",
    "\n",
    "r = neighk.predict(preprocessing.StandardScaler().fit([ IC ]).transform([ IC ]))\n",
    "R = str(r[0])\n",
    "R"
   ]
  },
  {
   "cell_type": "code",
   "execution_count": 69,
   "id": "4c611de7-c4a0-45c8-9e8d-b61c3afb482f",
   "metadata": {},
   "outputs": [],
   "source": [
    "with open(\"./Rainfall.txt\", \"w\") as text_file:\n",
    "    text_file.write(R)"
   ]
  },
  {
   "cell_type": "code",
   "execution_count": null,
   "id": "99a951d9-8bbe-4090-9fbb-29868cc2a82f",
   "metadata": {},
   "outputs": [],
   "source": []
  }
 ],
 "metadata": {
  "kernelspec": {
   "display_name": "Python 3 (ipykernel)",
   "language": "python",
   "name": "python3"
  },
  "language_info": {
   "codemirror_mode": {
    "name": "ipython",
    "version": 3
   },
   "file_extension": ".py",
   "mimetype": "text/x-python",
   "name": "python",
   "nbconvert_exporter": "python",
   "pygments_lexer": "ipython3",
   "version": "3.9.7"
  }
 },
 "nbformat": 4,
 "nbformat_minor": 5
}
