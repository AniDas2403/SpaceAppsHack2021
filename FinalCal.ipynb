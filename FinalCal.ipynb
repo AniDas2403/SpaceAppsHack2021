{
 "cells": [
  {
   "cell_type": "code",
   "execution_count": 14,
   "id": "320b0d6d-f70f-4295-ba15-c62f3dc994d0",
   "metadata": {},
   "outputs": [
    {
     "data": {
      "text/plain": [
       "3"
      ]
     },
     "execution_count": 14,
     "metadata": {},
     "output_type": "execute_result"
    }
   ],
   "source": [
    "with open('./Landslide.txt') as f:\n",
    "    data = f.readlines()\n",
    "    \n",
    "L = int(data[0])\n",
    "L"
   ]
  },
  {
   "cell_type": "code",
   "execution_count": 15,
   "id": "6dfa7a64-db0f-45b0-acb7-1b5deed7c63d",
   "metadata": {},
   "outputs": [
    {
     "data": {
      "text/plain": [
       "2"
      ]
     },
     "execution_count": 15,
     "metadata": {},
     "output_type": "execute_result"
    }
   ],
   "source": [
    "with open('./Rainfall.txt') as f:\n",
    "    data = f.readlines()\n",
    "    \n",
    "R = int(data[0])\n",
    "R"
   ]
  },
  {
   "cell_type": "code",
   "execution_count": 16,
   "id": "897be3a0-3d8b-457c-8bfd-d09fcd9e2b69",
   "metadata": {},
   "outputs": [],
   "source": [
    "def print_result(prev_landslide_scale, avg_rain):\n",
    "    if ( ((prev_landslide_scale*avg_rain) == 3) or ((prev_landslide_scale*avg_rain) == 2) or ((prev_landslide_scale*avg_rain) == 1) ):\n",
    "        print(\"There is a high chance of major landslide event occuring\")\n",
    "    if ( ((prev_landslide_scale*avg_rain) == 4) or ((prev_landslide_scale*avg_rain) == 6) or ((prev_landslide_scale*avg_rain) == 9) ):\n",
    "        print(\"There is a medium chance of major landslide event occuring\")\n",
    "    if ( ((prev_landslide_scale*avg_rain) == 8) or ((prev_landslide_scale*avg_rain) == 12)):\n",
    "        print(\"There is a low chance of major landslide event occuring\")"
   ]
  },
  {
   "cell_type": "code",
   "execution_count": 17,
   "id": "b7dea238-3441-4bdc-9b1a-c27c74ac6235",
   "metadata": {},
   "outputs": [
    {
     "name": "stdout",
     "output_type": "stream",
     "text": [
      "There is a medium chance of major landslide event occuring\n"
     ]
    }
   ],
   "source": [
    "print_result(L, R)"
   ]
  },
  {
   "cell_type": "code",
   "execution_count": null,
   "id": "19346a4e-d348-4205-a9a5-79b21fd35bd7",
   "metadata": {},
   "outputs": [],
   "source": []
  }
 ],
 "metadata": {
  "kernelspec": {
   "display_name": "Python 3 (ipykernel)",
   "language": "python",
   "name": "python3"
  },
  "language_info": {
   "codemirror_mode": {
    "name": "ipython",
    "version": 3
   },
   "file_extension": ".py",
   "mimetype": "text/x-python",
   "name": "python",
   "nbconvert_exporter": "python",
   "pygments_lexer": "ipython3",
   "version": "3.9.7"
  }
 },
 "nbformat": 4,
 "nbformat_minor": 5
}
