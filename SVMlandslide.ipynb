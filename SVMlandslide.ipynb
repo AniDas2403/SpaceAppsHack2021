{
 "cells": [
  {
   "cell_type": "code",
   "execution_count": 16,
   "id": "4eb74fff-22ba-4d6f-aac2-d5ee7dc74ffe",
   "metadata": {},
   "outputs": [],
   "source": [
    "import pandas as pd\n",
    "import random\n",
    "import numpy as np \n",
    "import matplotlib.pyplot as plt \n",
    "from sklearn.cluster import KMeans \n",
    "from sklearn.datasets import make_blobs \n",
    "from sklearn import preprocessing\n",
    "%matplotlib inline"
   ]
  },
  {
   "cell_type": "code",
   "execution_count": 7,
   "id": "abccc6e1-dd24-438d-8919-c5b3e58a1da3",
   "metadata": {},
   "outputs": [],
   "source": [
    "l = pd.read_csv('./landslide_mod2.csv')"
   ]
  },
  {
   "cell_type": "code",
   "execution_count": 9,
   "id": "43e8aaf0-ff88-487c-bbfd-c9ee8e572f89",
   "metadata": {},
   "outputs": [
    {
     "data": {
      "text/html": [
       "<div>\n",
       "<style scoped>\n",
       "    .dataframe tbody tr th:only-of-type {\n",
       "        vertical-align: middle;\n",
       "    }\n",
       "\n",
       "    .dataframe tbody tr th {\n",
       "        vertical-align: top;\n",
       "    }\n",
       "\n",
       "    .dataframe thead th {\n",
       "        text-align: right;\n",
       "    }\n",
       "</style>\n",
       "<table border=\"1\" class=\"dataframe\">\n",
       "  <thead>\n",
       "    <tr style=\"text-align: right;\">\n",
       "      <th></th>\n",
       "      <th>Date</th>\n",
       "      <th>country</th>\n",
       "      <th>landslide_type</th>\n",
       "      <th>trigger</th>\n",
       "      <th>landslide_size</th>\n",
       "      <th>population</th>\n",
       "      <th>latitude</th>\n",
       "      <th>longitude</th>\n",
       "    </tr>\n",
       "  </thead>\n",
       "  <tbody>\n",
       "    <tr>\n",
       "      <th>0</th>\n",
       "      <td>05/30/2008</td>\n",
       "      <td>Italy</td>\n",
       "      <td>2</td>\n",
       "      <td>1</td>\n",
       "      <td>3</td>\n",
       "      <td>16800.0</td>\n",
       "      <td>44.6467</td>\n",
       "      <td>7.6639</td>\n",
       "    </tr>\n",
       "    <tr>\n",
       "      <th>1</th>\n",
       "      <td>05/30/2008</td>\n",
       "      <td>Italy</td>\n",
       "      <td>2</td>\n",
       "      <td>1</td>\n",
       "      <td>3</td>\n",
       "      <td>809.0</td>\n",
       "      <td>44.8098</td>\n",
       "      <td>7.1526</td>\n",
       "    </tr>\n",
       "    <tr>\n",
       "      <th>2</th>\n",
       "      <td>05/30/2008</td>\n",
       "      <td>Italy</td>\n",
       "      <td>2</td>\n",
       "      <td>1</td>\n",
       "      <td>3</td>\n",
       "      <td>2982.0</td>\n",
       "      <td>45.7513</td>\n",
       "      <td>7.3760</td>\n",
       "    </tr>\n",
       "    <tr>\n",
       "      <th>3</th>\n",
       "      <td>12/17/2008</td>\n",
       "      <td>Italy</td>\n",
       "      <td>2</td>\n",
       "      <td>1</td>\n",
       "      <td>3</td>\n",
       "      <td>169140.0</td>\n",
       "      <td>38.1102</td>\n",
       "      <td>15.6508</td>\n",
       "    </tr>\n",
       "    <tr>\n",
       "      <th>4</th>\n",
       "      <td>01/26/2009</td>\n",
       "      <td>Italy</td>\n",
       "      <td>2</td>\n",
       "      <td>1</td>\n",
       "      <td>3</td>\n",
       "      <td>959470.0</td>\n",
       "      <td>40.8403</td>\n",
       "      <td>14.2520</td>\n",
       "    </tr>\n",
       "  </tbody>\n",
       "</table>\n",
       "</div>"
      ],
      "text/plain": [
       "         Date country  landslide_type  trigger  landslide_size  population  \\\n",
       "0  05/30/2008   Italy               2        1               3     16800.0   \n",
       "1  05/30/2008   Italy               2        1               3       809.0   \n",
       "2  05/30/2008   Italy               2        1               3      2982.0   \n",
       "3  12/17/2008   Italy               2        1               3    169140.0   \n",
       "4  01/26/2009   Italy               2        1               3    959470.0   \n",
       "\n",
       "   latitude  longitude  \n",
       "0   44.6467     7.6639  \n",
       "1   44.8098     7.1526  \n",
       "2   45.7513     7.3760  \n",
       "3   38.1102    15.6508  \n",
       "4   40.8403    14.2520  "
      ]
     },
     "execution_count": 9,
     "metadata": {},
     "output_type": "execute_result"
    }
   ],
   "source": [
    "#del l['Unnamed: 0']\n",
    "#del l['Unnamed: 0.1']\n",
    "l.head()"
   ]
  },
  {
   "cell_type": "code",
   "execution_count": 10,
   "id": "081ddfbf-ec36-4393-962e-a41c88ce9eb5",
   "metadata": {},
   "outputs": [],
   "source": [
    "X = l[['latitude','longitude']]\n",
    "Y = l[['landslide_size']]"
   ]
  },
  {
   "cell_type": "code",
   "execution_count": 11,
   "id": "ba494505-315f-457c-9336-01335e013250",
   "metadata": {},
   "outputs": [
    {
     "data": {
      "text/html": [
       "<div>\n",
       "<style scoped>\n",
       "    .dataframe tbody tr th:only-of-type {\n",
       "        vertical-align: middle;\n",
       "    }\n",
       "\n",
       "    .dataframe tbody tr th {\n",
       "        vertical-align: top;\n",
       "    }\n",
       "\n",
       "    .dataframe thead th {\n",
       "        text-align: right;\n",
       "    }\n",
       "</style>\n",
       "<table border=\"1\" class=\"dataframe\">\n",
       "  <thead>\n",
       "    <tr style=\"text-align: right;\">\n",
       "      <th></th>\n",
       "      <th>latitude</th>\n",
       "      <th>longitude</th>\n",
       "    </tr>\n",
       "  </thead>\n",
       "  <tbody>\n",
       "    <tr>\n",
       "      <th>0</th>\n",
       "      <td>44.6467</td>\n",
       "      <td>7.6639</td>\n",
       "    </tr>\n",
       "    <tr>\n",
       "      <th>1</th>\n",
       "      <td>44.8098</td>\n",
       "      <td>7.1526</td>\n",
       "    </tr>\n",
       "    <tr>\n",
       "      <th>2</th>\n",
       "      <td>45.7513</td>\n",
       "      <td>7.3760</td>\n",
       "    </tr>\n",
       "    <tr>\n",
       "      <th>3</th>\n",
       "      <td>38.1102</td>\n",
       "      <td>15.6508</td>\n",
       "    </tr>\n",
       "    <tr>\n",
       "      <th>4</th>\n",
       "      <td>40.8403</td>\n",
       "      <td>14.2520</td>\n",
       "    </tr>\n",
       "  </tbody>\n",
       "</table>\n",
       "</div>"
      ],
      "text/plain": [
       "   latitude  longitude\n",
       "0   44.6467     7.6639\n",
       "1   44.8098     7.1526\n",
       "2   45.7513     7.3760\n",
       "3   38.1102    15.6508\n",
       "4   40.8403    14.2520"
      ]
     },
     "execution_count": 11,
     "metadata": {},
     "output_type": "execute_result"
    }
   ],
   "source": [
    "X.head()"
   ]
  },
  {
   "cell_type": "code",
   "execution_count": 12,
   "id": "f8c8f5cb-3a81-4122-a306-61455dfefb1a",
   "metadata": {},
   "outputs": [
    {
     "data": {
      "text/html": [
       "<div>\n",
       "<style scoped>\n",
       "    .dataframe tbody tr th:only-of-type {\n",
       "        vertical-align: middle;\n",
       "    }\n",
       "\n",
       "    .dataframe tbody tr th {\n",
       "        vertical-align: top;\n",
       "    }\n",
       "\n",
       "    .dataframe thead th {\n",
       "        text-align: right;\n",
       "    }\n",
       "</style>\n",
       "<table border=\"1\" class=\"dataframe\">\n",
       "  <thead>\n",
       "    <tr style=\"text-align: right;\">\n",
       "      <th></th>\n",
       "      <th>landslide_size</th>\n",
       "    </tr>\n",
       "  </thead>\n",
       "  <tbody>\n",
       "    <tr>\n",
       "      <th>0</th>\n",
       "      <td>3</td>\n",
       "    </tr>\n",
       "    <tr>\n",
       "      <th>1</th>\n",
       "      <td>3</td>\n",
       "    </tr>\n",
       "    <tr>\n",
       "      <th>2</th>\n",
       "      <td>3</td>\n",
       "    </tr>\n",
       "    <tr>\n",
       "      <th>3</th>\n",
       "      <td>3</td>\n",
       "    </tr>\n",
       "    <tr>\n",
       "      <th>4</th>\n",
       "      <td>3</td>\n",
       "    </tr>\n",
       "  </tbody>\n",
       "</table>\n",
       "</div>"
      ],
      "text/plain": [
       "   landslide_size\n",
       "0               3\n",
       "1               3\n",
       "2               3\n",
       "3               3\n",
       "4               3"
      ]
     },
     "execution_count": 12,
     "metadata": {},
     "output_type": "execute_result"
    }
   ],
   "source": [
    "Y.head()"
   ]
  },
  {
   "cell_type": "code",
   "execution_count": 17,
   "id": "3c2adcea-8774-4952-b7b3-02e29aff3f9c",
   "metadata": {},
   "outputs": [
    {
     "data": {
      "text/plain": [
       "array([[ 0.69561534, -1.41757351],\n",
       "       [ 0.75327524, -1.58751001],\n",
       "       [ 1.08611889, -1.51326042],\n",
       "       [-1.61519986,  1.23696561],\n",
       "       [-0.65004166,  0.77205816]])"
      ]
     },
     "execution_count": 17,
     "metadata": {},
     "output_type": "execute_result"
    }
   ],
   "source": [
    "X= preprocessing.StandardScaler().fit(X).transform(X)\n",
    "X[0:5]"
   ]
  },
  {
   "cell_type": "code",
   "execution_count": 96,
   "id": "a6617674-3fc6-48d5-8d62-602fa5495563",
   "metadata": {},
   "outputs": [
    {
     "name": "stdout",
     "output_type": "stream",
     "text": [
      "Train set: (38, 2) (38, 1)\n",
      "Test set: (17, 2) (17, 1)\n",
      "Accuracies: [0.74383302 0.74383302 0.74383302 0.74383302]\n",
      "The best accuracy was with 0.7438330170777988 with ker = linear\n"
     ]
    },
    {
     "name": "stderr",
     "output_type": "stream",
     "text": [
      "C:\\Users\\dasa\\Software\\Python\\lib\\site-packages\\sklearn\\utils\\validation.py:985: DataConversionWarning: A column-vector y was passed when a 1d array was expected. Please change the shape of y to (n_samples, ), for example using ravel().\n",
      "  y = column_or_1d(y, warn=True)\n",
      "C:\\Users\\dasa\\Software\\Python\\lib\\site-packages\\sklearn\\utils\\validation.py:985: DataConversionWarning: A column-vector y was passed when a 1d array was expected. Please change the shape of y to (n_samples, ), for example using ravel().\n",
      "  y = column_or_1d(y, warn=True)\n",
      "C:\\Users\\dasa\\Software\\Python\\lib\\site-packages\\sklearn\\utils\\validation.py:985: DataConversionWarning: A column-vector y was passed when a 1d array was expected. Please change the shape of y to (n_samples, ), for example using ravel().\n",
      "  y = column_or_1d(y, warn=True)\n",
      "C:\\Users\\dasa\\Software\\Python\\lib\\site-packages\\sklearn\\utils\\validation.py:985: DataConversionWarning: A column-vector y was passed when a 1d array was expected. Please change the shape of y to (n_samples, ), for example using ravel().\n",
      "  y = column_or_1d(y, warn=True)\n"
     ]
    }
   ],
   "source": [
    "from sklearn import svm\n",
    "from sklearn.metrics import f1_score\n",
    "from sklearn.metrics import jaccard_score\n",
    "\n",
    "# Split in train and test\n",
    "from sklearn.model_selection import train_test_split\n",
    "X_train, X_test, y_train, y_test = train_test_split( X, Y, test_size=0.3, random_state=4)\n",
    "print ('Train set:', X_train.shape,  y_train.shape)\n",
    "print ('Test set:', X_test.shape,  y_test.shape)\n",
    "\n",
    "\n",
    "#Testing and training model to find out the best kernel function to use. F1_score has been used to determine model accuracy\n",
    "Ker = [\"linear\", \"poly\", \"rbf\", \"sigmoid\"]\n",
    "Acc = np.zeros((4))\n",
    "\n",
    "for i in range (0,4):\n",
    "\n",
    "    #Train Model and Predict best kernel function to use\n",
    "    clf = svm.SVC(kernel=Ker[i])\n",
    "    clf.fit(X_train, y_train)\n",
    "    yhat = clf.predict(X_test)\n",
    "    Acc[i] = f1_score(y_test, yhat, average='weighted')\n",
    "    \n",
    "print(\"Accuracies:\", Acc)\n",
    "\n",
    "# Printing Kernel function value with best accuracy\n",
    "print( \"The best accuracy was with\", Acc.max(), \"with ker =\", Ker[Acc.argmax()])"
   ]
  },
  {
   "cell_type": "code",
   "execution_count": 97,
   "id": "4ec53154-2636-4255-ae89-170d27c62140",
   "metadata": {},
   "outputs": [
    {
     "name": "stdout",
     "output_type": "stream",
     "text": [
      "[3 3 3 3 3 3 3 3 3 3 3 3 3 3 3 3 3]\n",
      "    landslide_size\n",
      "4                3\n",
      "20               3\n",
      "53               3\n",
      "24               3\n",
      "12               3\n",
      "28               3\n",
      "35               2\n",
      "32               3\n",
      "6                2\n",
      "42               3\n",
      "7                2\n",
      "25               3\n",
      "11               3\n",
      "14               3\n",
      "37               3\n",
      "26               3\n",
      "16               3\n"
     ]
    },
    {
     "name": "stderr",
     "output_type": "stream",
     "text": [
      "C:\\Users\\dasa\\Software\\Python\\lib\\site-packages\\sklearn\\utils\\validation.py:985: DataConversionWarning: A column-vector y was passed when a 1d array was expected. Please change the shape of y to (n_samples, ), for example using ravel().\n",
      "  y = column_or_1d(y, warn=True)\n"
     ]
    }
   ],
   "source": [
    "kernel_f = 'sigmoid'\n",
    "clf_KF = svm.SVC(kernel=kernel_f)\n",
    "clf_KF.fit(X_train, y_train)\n",
    "\n",
    "# Predicting\n",
    "yhat = clf_KF.predict(X_test)\n",
    "print(yhat [0:35])\n",
    "print(y_test [0:35])"
   ]
  },
  {
   "cell_type": "code",
   "execution_count": 104,
   "id": "597ac04d-1adb-4102-8d6c-1e4e7bb3e3a6",
   "metadata": {},
   "outputs": [
    {
     "data": {
      "text/plain": [
       "'3'"
      ]
     },
     "execution_count": 104,
     "metadata": {},
     "output_type": "execute_result"
    }
   ],
   "source": [
    "#taking input co-ordinates as 44.6467, 7.6639\n",
    "\n",
    "lat = 44.6467\n",
    "long = 7.6639\n",
    "\n",
    "IC = [lat, long]\n",
    "\n",
    "l = clf_KF.predict(preprocessing.StandardScaler().fit([ IC ]).transform([ IC ]))\n",
    "L = str(l[0])\n",
    "L"
   ]
  },
  {
   "cell_type": "code",
   "execution_count": 103,
   "id": "12ad2729-456f-42e5-9de4-285f55fee106",
   "metadata": {},
   "outputs": [],
   "source": [
    "with open(\"./Landslide.txt\", \"w\") as text_file:\n",
    "    text_file.write(L)"
   ]
  },
  {
   "cell_type": "code",
   "execution_count": null,
   "id": "f5ee5970-bd0f-484c-b3f6-0b5984757f8a",
   "metadata": {},
   "outputs": [],
   "source": []
  }
 ],
 "metadata": {
  "kernelspec": {
   "display_name": "Python 3 (ipykernel)",
   "language": "python",
   "name": "python3"
  },
  "language_info": {
   "codemirror_mode": {
    "name": "ipython",
    "version": 3
   },
   "file_extension": ".py",
   "mimetype": "text/x-python",
   "name": "python",
   "nbconvert_exporter": "python",
   "pygments_lexer": "ipython3",
   "version": "3.9.7"
  }
 },
 "nbformat": 4,
 "nbformat_minor": 5
}
